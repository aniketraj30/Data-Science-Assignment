{
 "cells": [
  {
   "cell_type": "code",
   "execution_count": 9,
   "id": "246d6d49-6e4f-4b12-a4c8-2e15bdf5c33b",
   "metadata": {},
   "outputs": [],
   "source": [
    "from sklearn.neighbors import NearestNeighbors\n",
    "import pandas as pd\n",
    "import matplotlib.pyplot as plt\n",
    "import seaborn as sns\n",
    "\n",
    "customers = pd.read_csv(r\"C:\\Users\\Anand\\Downloads\\Customers (1).csv\")\n",
    "products = pd.read_csv(r\"C:\\Users\\Anand\\Downloads\\Products (1).csv\")\n",
    "transactions = pd.read_csv(r\"C:\\Users\\Anand\\Downloads\\Transactions.csv\")\n",
    "\n",
    "customer_transactions = transactions.merge(customers, on='CustomerID')\n",
    "customer_profile = customer_transactions.groupby('CustomerID').agg({\n",
    "    'TotalValue': 'sum',\n",
    "    'Quantity': 'sum'\n",
    "}).reset_index()\n",
    "\n",
    "# Nearest Neighbors model\n",
    "model = NearestNeighbors(n_neighbors=4)  # 3 lookalikes + 1 for the customer itself\n",
    "model.fit(customer_profile[['TotalValue', 'Quantity']])\n",
    "\n",
    "# Finding lookalikes for the first 20 customers\n",
    "lookalikes = {}\n",
    "for customer_id in customer_profile['CustomerID'].head(20):\n",
    "    distances, indices = model.kneighbors(customer_profile[customer_profile['CustomerID'] == customer_id][['TotalValue', 'Quantity']])\n",
    "    similar_customers = customer_profile.iloc[indices[0]]['CustomerID'].tolist()\n",
    "    similar_customers.remove(customer_id)  # Remove the customer itself\n",
    "    lookalikes[customer_id] = similar_customers[:3]  # Top 3 lookalikes\n",
    "\n",
    "# Save to CSV\n",
    "lookalike_df = pd.DataFrame(lookalikes.items(), columns=['CustomerID', 'Lookalikes'])\n",
    "lookalike_df.to_csv('FirstName_LastName_Lookalike.csv', index=False)"
   ]
  },
  {
   "cell_type": "code",
   "execution_count": null,
   "id": "1b3a3d52-a60f-43fd-8526-1dd022f0735d",
   "metadata": {},
   "outputs": [],
   "source": []
  },
  {
   "cell_type": "code",
   "execution_count": null,
   "id": "f1597920-9be6-4154-b623-fab2915a0e44",
   "metadata": {},
   "outputs": [],
   "source": []
  }
 ],
 "metadata": {
  "kernelspec": {
   "display_name": "Python 3 (ipykernel)",
   "language": "python",
   "name": "python3"
  },
  "language_info": {
   "codemirror_mode": {
    "name": "ipython",
    "version": 3
   },
   "file_extension": ".py",
   "mimetype": "text/x-python",
   "name": "python",
   "nbconvert_exporter": "python",
   "pygments_lexer": "ipython3",
   "version": "3.12.7"
  }
 },
 "nbformat": 4,
 "nbformat_minor": 5
}
